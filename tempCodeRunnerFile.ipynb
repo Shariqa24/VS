import numpy as np
#single random float value from 0 to 1
np.random.rand
#1-D array with float values from 0 10 1
np.random.rand(10)
#2-D array with float values from 0 10
np.random.rand(3,5)
#3-D array with float values from 0 10 1
np.random.rand(2,3,4)