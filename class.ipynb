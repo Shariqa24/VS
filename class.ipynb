{
 "cells": [
  {
   "cell_type": "code",
   "execution_count": null,
   "id": "e01bb381",
   "metadata": {},
   "outputs": [
    {
     "name": "stdout",
     "output_type": "stream",
     "text": [
      "[ 0.   2.5  5.   7.5 10. ]\n"
     ]
    }
   ],
   "source": [
    "import numpy as np\n",
    "x = np.linspace(0, 10, 5)\n",
    "print(x)\n"
   ]
  },
  {
   "cell_type": "code",
   "execution_count": null,
   "id": "99146f22",
   "metadata": {},
   "outputs": [
    {
     "data": {
      "text/plain": [
       "array([[[0.40366746, 0.06809805, 0.57361903, 0.25315063],\n",
       "        [0.54384874, 0.03554262, 0.08393042, 0.18542735],\n",
       "        [0.06125576, 0.3575183 , 0.95944954, 0.98682605]],\n",
       "\n",
       "       [[0.06345902, 0.73166045, 0.19834683, 0.22428262],\n",
       "        [0.84026925, 0.26439881, 0.68409612, 0.65034075],\n",
       "        [0.16046462, 0.97328362, 0.83003587, 0.33690058]]])"
      ]
     },
     "execution_count": 5,
     "metadata": {},
     "output_type": "execute_result"
    }
   ],
   "source": [
    "import numpy as np\n",
    "#single random float value from 0 to 1\n",
    "np.random.rand\n",
    "#1-D array with float values from 0 10 1\n",
    "np.random.rand(10)\n",
    "#2-D array with float values from 0 10\n",
    "np.random.rand(3,5)\n",
    "#3-D array with float values from 0 10 1\n",
    "np.random.rand(2,3,4)"
   ]
  },
  {
   "cell_type": "code",
   "execution_count": null,
   "id": "28fa5909",
   "metadata": {},
   "outputs": [
    {
     "data": {
      "text/plain": [
       "array([[[15.5021172 , 15.33792151, 19.46475041, 15.63085409],\n",
       "        [10.46034542, 18.57059305, 17.8582729 , 15.22865521],\n",
       "        [11.7181306 , 16.22787943, 11.32254261, 14.7287154 ]],\n",
       "\n",
       "       [[12.00848513, 14.39869628, 18.23289196, 16.04948251],\n",
       "        [19.10987773, 12.95325363, 18.12021518, 18.31983061],\n",
       "        [10.33747305, 11.66119514, 12.69003701, 10.55371961]]])"
      ]
     },
     "execution_count": 4,
     "metadata": {},
     "output_type": "execute_result"
    }
   ],
   "source": [
    "import numpy as np\n",
    "#random float value in the given customized range\n",
    "np.random.uniform(10,20)\n",
    "#1-D array with customized range range of float values\n",
    "np.random.uniform(10,20,size=10)\n",
    "#2-D array with customized range range of float values\n",
    "np.random.uniform(10,20,size=(3,5))\n",
    "#3-D array with customized range range of float values\n",
    "np.random.uniform(10,20,size=(2,3,4))"
   ]
  },
  {
   "cell_type": "code",
   "execution_count": null,
   "id": "366ca0da",
   "metadata": {},
   "outputs": [
    {
     "name": "stdout",
     "output_type": "stream",
     "text": [
      "0.61746749960587\n",
      "[-0.42573318 -0.08513066  0.17764871  0.26015622 -1.61068153 -0.12261878\n",
      " -1.06087088 -1.90247253  0.20308676 -0.19540791]\n",
      "[[-1.11861169e+00  1.68853673e+00  9.90157761e-02]\n",
      " [-3.63475530e-01 -1.32905595e-03  1.65175741e+00]]\n",
      "[[[-2.212104    0.17146255 -1.43205198  0.29351347]\n",
      "  [-0.92212726 -1.17088014 -0.2915554   0.04690744]\n",
      "  [ 0.61784088 -0.93878147 -1.27349552 -0.15590119]]\n",
      "\n",
      " [[ 0.66592965  1.67898735  1.38538109  1.38905677]\n",
      "  [-0.97661178 -0.05061529 -0.17832744 -1.2268952 ]\n",
      "  [-1.05804983 -1.93188594 -2.10384606  0.14521131]]]\n"
     ]
    }
   ],
   "source": [
    "import numpy as np\n",
    "#single float value including -ve value also\n",
    "a=np.random.randn()\n",
    "print(a)\n",
    "#1-D array with mean 0 and stand deviation\n",
    "a=np.random.randn(10)\n",
    "print(a)\n",
    "#2-D array with mean 0 and stand deviation\n",
    "a=np.random.randn(2,3)\n",
    "print(a)\n",
    "#3-D array with mean 0 and stand deviation\n",
    "a=np.random.randn(2,3,4)\n",
    "print(a)"
   ]
  },
  {
   "cell_type": "markdown",
   "id": "4b88b5af",
   "metadata": {},
   "source": [
    "What is pandas?\n",
    "Pandas is a python library used for data analysis and manipulatio .\n",
    "It provides two main data structures\n",
    "==>Series:One dimensional array like object \n",
    "==>DataFrame:Two dimensional table like structure"
   ]
  },
  {
   "cell_type": "markdown",
   "id": "e98d60d9",
   "metadata": {},
   "source": [
    "What is a Series?\n",
    "A pandas series is like a column in a spreadsheet or a 1-D array with labels (called indices).\n",
    "Pandas Series is a versatile tool for managing and analyzing 1-D data.Its combination of labels and values\n",
    "syntax to generate a series in pandas\n",
    "==>pd.Series(data,index,dtype)"
   ]
  },
  {
   "cell_type": "code",
   "execution_count": null,
   "id": "0bd456fb",
   "metadata": {},
   "outputs": [
    {
     "name": "stdout",
     "output_type": "stream",
     "text": [
      "0    10\n",
      "1    20\n",
      "2    30\n",
      "3    40\n",
      "dtype: int64\n"
     ]
    }
   ],
   "source": [
    "import pandas as pd\n",
    "#from a list\n",
    "s1=pd.Series([10,20,30,40])\n",
    "print(s1)"
   ]
  },
  {
   "cell_type": "code",
   "execution_count": null,
   "id": "9fca6bac",
   "metadata": {},
   "outputs": [
    {
     "name": "stdout",
     "output_type": "stream",
     "text": [
      "a    10\n",
      "b    20\n",
      "c    30\n",
      "dtype: int64\n"
     ]
    }
   ],
   "source": [
    "import pandas as pd \n",
    "#from a list with custom index\n",
    "s2=pd.Series([10,20,30],index=['a','b','c'])\n",
    "print(s2)\n"
   ]
  },
  {
   "cell_type": "code",
   "execution_count": null,
   "id": "2107c38a",
   "metadata": {},
   "outputs": [
    {
     "name": "stdout",
     "output_type": "stream",
     "text": [
      "a    100\n",
      "b    200\n",
      "c    300\n",
      "dtype: int64\n"
     ]
    }
   ],
   "source": [
    "import pandas as pd\n",
    "#from a dictonary\n",
    "s3=pd.Series({\"a\":100,\"b\":200,\"c\":300})\n",
    "print(s3)"
   ]
  },
  {
   "cell_type": "code",
   "execution_count": null,
   "id": "f6a3de84",
   "metadata": {},
   "outputs": [],
   "source": [
    "\n",
    "y=[chr(i) for i in range(65,75)]\n",
    "print(y)\n",
    "\n",
    "np.random.seed(10)\n",
    "x=np.random.randint(10,31,size=10)\n",
    "s1=pd.Series(x,index=y)\n",
    "print(s1)"
   ]
  },
  {
   "cell_type": "code",
   "execution_count": null,
   "id": "35a9f946",
   "metadata": {},
   "outputs": [
    {
     "name": "stdout",
     "output_type": "stream",
     "text": [
      "x    5\n",
      "y    5\n",
      "z    5\n",
      "dtype: int64\n"
     ]
    }
   ],
   "source": [
    "s4=pd.Series(5,index=[\"x\",\"y\",\"z\"])\n",
    "print(s4) #scalar"
   ]
  },
  {
   "cell_type": "code",
   "execution_count": null,
   "id": "a9de4bff",
   "metadata": {},
   "outputs": [
    {
     "name": "stdout",
     "output_type": "stream",
     "text": [
      "0    10\n",
      "1    20\n",
      "2    30\n",
      "3    40\n",
      "4    50\n",
      "dtype: int64\n",
      "RangeIndex(start=0, stop=5, step=1)\n",
      "[10 20 30 40 50]\n",
      "int64\n",
      "(5,)\n",
      "5\n"
     ]
    }
   ],
   "source": [
    "import numpy as np\n",
    "import pandas as pd\n",
    "s1=pd.Series([10,20,30,40,50])\n",
    "print(s1)\n",
    "print(s1.index)\n",
    "print(s1.values)\n",
    "print(s1.dtype)\n",
    "print(s1.shape)\n",
    "print(s1.size)"
   ]
  },
  {
   "cell_type": "code",
   "execution_count": null,
   "id": "f1ae2296",
   "metadata": {},
   "outputs": [
    {
     "name": "stdout",
     "output_type": "stream",
     "text": [
      "A    10\n",
      "B    20\n",
      "C    30\n",
      "D    40\n",
      "E    50\n",
      "dtype: int64\n",
      "[10 20 30 40 50]\n",
      "int64\n",
      "(5,)\n",
      "5\n",
      "A    10\n",
      "B    20\n",
      "C    30\n",
      "D    40\n",
      "E    50\n",
      "dtype: int64\n",
      "10\n",
      "A    10\n",
      "B    20\n",
      "C    30\n",
      "D    40\n",
      "dtype: int64\n",
      "A    10\n",
      "D    40\n",
      "dtype: int64\n",
      "10\n",
      "A    10\n",
      "B    20\n",
      "C    30\n",
      "D    40\n",
      "dtype: int64\n",
      "A    10\n",
      "D    40\n",
      "dtype: int64\n",
      "D    40\n",
      "E    50\n",
      "dtype: int64\n",
      "A    10\n",
      "B    20\n",
      "C    30\n",
      "D    40\n",
      "E    50\n",
      "dtype: int64\n"
     ]
    }
   ],
   "source": [
    "import numpy as np\n",
    "import pandas as pd\n",
    "\n",
    "# Create a Pandas Series with custom labels\n",
    "s1 = pd.Series([10, 20, 30, 40, 50], index=['A', 'B', 'C', 'D', 'E'])\n",
    "\n",
    "# Basic info\n",
    "print(s1)\n",
    "print(s1.values)      # Only values\n",
    "print(s1.dtype)       # Data type\n",
    "print(s1.shape)       # Shape of the series\n",
    "print(s1.size)        # Number of elements\n",
    "\n",
    "# Indexing and slicing\n",
    "print(s1)             \n",
    "print(s1['A'])        # Access using label\n",
    "print(s1[0:4])        # Positional slicing\n",
    "print(s1[['A', 'D']]) # Access using multiple labels\n",
    "print(s1.iloc[0])     # First element using iloc\n",
    "print(s1.iloc[0:4])   # Positional slicing using iloc\n",
    "print(s1.iloc[[0, 3]])# Access positions 0 and 3\n",
    "\n",
    "# Conditional selections\n",
    "print(s1[s1 > 30])      # Elements greater than 30\n",
    "print(s1[s1 % 2 == 0])  # Even numbers\n"
   ]
  },
  {
   "cell_type": "code",
   "execution_count": null,
   "id": "54b8e592",
   "metadata": {},
   "outputs": [
    {
     "name": "stdout",
     "output_type": "stream",
     "text": [
      "0    10\n",
      "1    20\n",
      "2    30\n",
      "3    40\n",
      "4    50\n",
      "dtype: int64\n",
      "=======================\n",
      "a    10\n",
      "b    20\n",
      "c    30\n",
      "dtype: object\n",
      "0    20\n",
      "1    30\n",
      "2    40\n",
      "3    50\n",
      "4    60\n",
      "dtype: int64\n",
      "0     20\n",
      "1     40\n",
      "2     60\n",
      "3     80\n",
      "4    100\n",
      "dtype: int64\n",
      "0    NaN\n",
      "1    NaN\n",
      "2    NaN\n",
      "3    NaN\n",
      "4    NaN\n",
      "a    NaN\n",
      "b    NaN\n",
      "c    NaN\n",
      "dtype: object\n"
     ]
    }
   ],
   "source": [
    "import numpy as np\n",
    "import pandas as pd\n",
    "\n",
    "# Create a Pandas Series with custom labels\n",
    "s1 = pd.Series([10, 20, 30, 40, 50])\n",
    "print(s1)\n",
    "print('=======================')\n",
    "s2=pd.Series(['10','20','30'],index=['a','b','c'])\n",
    "print(s2)\n",
    "print(s1+10)#add 10 to each element\n",
    "print(s1*2)#multiply each elemnt by 2\n",
    "print(s1+s2)#align addition baed on index"
   ]
  },
  {
   "cell_type": "code",
   "execution_count": null,
   "id": "066f5162",
   "metadata": {},
   "outputs": [
    {
     "name": "stdout",
     "output_type": "stream",
     "text": [
      "0    10\n",
      "1    20\n",
      "2    10\n",
      "3    30\n",
      "4    40\n",
      "5    30\n",
      "6    50\n",
      "dtype: int64\n",
      "0    10\n",
      "1    20\n",
      "dtype: int64\n",
      "5    30\n",
      "6    50\n",
      "dtype: int64\n",
      "count     7.000000\n",
      "mean     27.142857\n",
      "std      14.960265\n",
      "min      10.000000\n",
      "25%      15.000000\n",
      "50%      30.000000\n",
      "75%      35.000000\n",
      "max      50.000000\n",
      "dtype: float64\n",
      "27.142857142857142\n",
      "190\n",
      "10\n",
      "50\n",
      "[10 20 30 40 50]\n",
      "10    2\n",
      "30    2\n",
      "20    1\n",
      "40    1\n",
      "50    1\n",
      "Name: count, dtype: int64\n"
     ]
    }
   ],
   "source": [
    "import numpy as np\n",
    "import pandas as pd\n",
    "\n",
    "# Create a Pandas Series with custom labels\n",
    "s1 = pd.Series([10, 20,10, 30, 40, 30,50])\n",
    "print(s1)\n",
    "print(s1.head(2))#first two elements\n",
    "print(s1.tail(2))#last two elements\n",
    "print(s1.describe())#all statistical details\n",
    "print(s1.mean())\n",
    "print(s1.sum())\n",
    "print(s1.min())\n",
    "print(s1.max())\n",
    "print(s1.unique())\n",
    "print(s1.value_counts())#frequency count"
   ]
  }
 ],
 "metadata": {
  "kernelspec": {
   "display_name": "Python 3",
   "language": "python",
   "name": "python3"
  },
  "language_info": {
   "codemirror_mode": {
    "name": "ipython",
    "version": 3
   },
   "file_extension": ".py",
   "mimetype": "text/x-python",
   "name": "python",
   "nbconvert_exporter": "python",
   "pygments_lexer": "ipython3",
   "version": "3.13.7"
  }
 },
 "nbformat": 4,
 "nbformat_minor": 5
}
